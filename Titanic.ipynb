{
 "cells": [
  {
   "cell_type": "code",
   "execution_count": 1,
   "id": "98868a65-6f0f-4ac5-af4d-6306fb101c73",
   "metadata": {},
   "outputs": [],
   "source": [
    "import pandas as pd"
   ]
  },
  {
   "cell_type": "code",
   "execution_count": 2,
   "id": "07b04388-7464-48b4-8c09-4a9ca01de77d",
   "metadata": {},
   "outputs": [],
   "source": [
    "import sklearn\n",
    "from sklearn.compose import (\n",
    "    ColumnTransformer,\n",
    "    make_column_transformer,\n",
    "    make_column_selector,\n",
    ")\n",
    "from sklearn.pipeline import Pipeline, make_pipeline\n",
    "from sklearn.preprocessing import (\n",
    "    OneHotEncoder,\n",
    "    StandardScaler,\n",
    "    RobustScaler,\n",
    "    FunctionTransformer,\n",
    ")\n",
    "from sklearn.impute import SimpleImputer, KNNImputer\n",
    "from sklearn.model_selection import cross_val_score, GridSearchCV\n",
    "from sklearn.linear_model import LogisticRegression\n",
    "from sklearn.ensemble import RandomForestClassifier"
   ]
  },
  {
   "cell_type": "code",
   "execution_count": 3,
   "id": "038d6304-4089-44b3-9646-9a3e2f630d6e",
   "metadata": {},
   "outputs": [],
   "source": [
    "sklearn.set_config(display=\"diagram\")"
   ]
  },
  {
   "cell_type": "code",
   "execution_count": 5,
   "id": "e12f9632-3d5b-48be-a5e1-20d84740eae6",
   "metadata": {},
   "outputs": [
    {
     "data": {
      "text/html": [
       "<div>\n",
       "<style scoped>\n",
       "    .dataframe tbody tr th:only-of-type {\n",
       "        vertical-align: middle;\n",
       "    }\n",
       "\n",
       "    .dataframe tbody tr th {\n",
       "        vertical-align: top;\n",
       "    }\n",
       "\n",
       "    .dataframe thead th {\n",
       "        text-align: right;\n",
       "    }\n",
       "</style>\n",
       "<table border=\"1\" class=\"dataframe\">\n",
       "  <thead>\n",
       "    <tr style=\"text-align: right;\">\n",
       "      <th></th>\n",
       "      <th>Survived</th>\n",
       "      <th>Pclass</th>\n",
       "      <th>Name</th>\n",
       "      <th>Sex</th>\n",
       "      <th>Age</th>\n",
       "      <th>SibSp</th>\n",
       "      <th>Parch</th>\n",
       "      <th>Ticket</th>\n",
       "      <th>Fare</th>\n",
       "      <th>Cabin</th>\n",
       "      <th>Embarked</th>\n",
       "    </tr>\n",
       "    <tr>\n",
       "      <th>PassengerId</th>\n",
       "      <th></th>\n",
       "      <th></th>\n",
       "      <th></th>\n",
       "      <th></th>\n",
       "      <th></th>\n",
       "      <th></th>\n",
       "      <th></th>\n",
       "      <th></th>\n",
       "      <th></th>\n",
       "      <th></th>\n",
       "      <th></th>\n",
       "    </tr>\n",
       "  </thead>\n",
       "  <tbody>\n",
       "    <tr>\n",
       "      <th>1</th>\n",
       "      <td>0</td>\n",
       "      <td>3</td>\n",
       "      <td>Mr. Owen Harris</td>\n",
       "      <td>male</td>\n",
       "      <td>22.0</td>\n",
       "      <td>1</td>\n",
       "      <td>0</td>\n",
       "      <td>A/5 21171</td>\n",
       "      <td>7.2500</td>\n",
       "      <td>NaN</td>\n",
       "      <td>S</td>\n",
       "    </tr>\n",
       "    <tr>\n",
       "      <th>2</th>\n",
       "      <td>1</td>\n",
       "      <td>1</td>\n",
       "      <td>Mrs. John Bradley (Florence Briggs Thayer)</td>\n",
       "      <td>female</td>\n",
       "      <td>38.0</td>\n",
       "      <td>1</td>\n",
       "      <td>0</td>\n",
       "      <td>PC 17599</td>\n",
       "      <td>71.2833</td>\n",
       "      <td>C85</td>\n",
       "      <td>C</td>\n",
       "    </tr>\n",
       "    <tr>\n",
       "      <th>3</th>\n",
       "      <td>1</td>\n",
       "      <td>3</td>\n",
       "      <td>Miss. Laina</td>\n",
       "      <td>female</td>\n",
       "      <td>26.0</td>\n",
       "      <td>0</td>\n",
       "      <td>0</td>\n",
       "      <td>STON/O2. 3101282</td>\n",
       "      <td>7.9250</td>\n",
       "      <td>NaN</td>\n",
       "      <td>S</td>\n",
       "    </tr>\n",
       "    <tr>\n",
       "      <th>4</th>\n",
       "      <td>1</td>\n",
       "      <td>1</td>\n",
       "      <td>Mrs. Jacques Heath (Lily May Peel)</td>\n",
       "      <td>female</td>\n",
       "      <td>35.0</td>\n",
       "      <td>1</td>\n",
       "      <td>0</td>\n",
       "      <td>113803</td>\n",
       "      <td>53.1000</td>\n",
       "      <td>C123</td>\n",
       "      <td>S</td>\n",
       "    </tr>\n",
       "    <tr>\n",
       "      <th>5</th>\n",
       "      <td>0</td>\n",
       "      <td>3</td>\n",
       "      <td>Mr. William Henry</td>\n",
       "      <td>male</td>\n",
       "      <td>35.0</td>\n",
       "      <td>0</td>\n",
       "      <td>0</td>\n",
       "      <td>373450</td>\n",
       "      <td>8.0500</td>\n",
       "      <td>NaN</td>\n",
       "      <td>S</td>\n",
       "    </tr>\n",
       "  </tbody>\n",
       "</table>\n",
       "</div>"
      ],
      "text/plain": [
       "             Survived  Pclass                                        Name  \\\n",
       "PassengerId                                                                 \n",
       "1                   0       3                             Mr. Owen Harris   \n",
       "2                   1       1  Mrs. John Bradley (Florence Briggs Thayer)   \n",
       "3                   1       3                                 Miss. Laina   \n",
       "4                   1       1          Mrs. Jacques Heath (Lily May Peel)   \n",
       "5                   0       3                           Mr. William Henry   \n",
       "\n",
       "                Sex   Age  SibSp  Parch            Ticket     Fare Cabin  \\\n",
       "PassengerId                                                                \n",
       "1              male  22.0      1      0         A/5 21171   7.2500   NaN   \n",
       "2            female  38.0      1      0          PC 17599  71.2833   C85   \n",
       "3            female  26.0      0      0  STON/O2. 3101282   7.9250   NaN   \n",
       "4            female  35.0      1      0            113803  53.1000  C123   \n",
       "5              male  35.0      0      0            373450   8.0500   NaN   \n",
       "\n",
       "            Embarked  \n",
       "PassengerId           \n",
       "1                  S  \n",
       "2                  C  \n",
       "3                  S  \n",
       "4                  S  \n",
       "5                  S  "
      ]
     },
     "execution_count": 5,
     "metadata": {},
     "output_type": "execute_result"
    }
   ],
   "source": [
    "df = pd.read_csv(\"titanic.csv\", index_col=\"PassengerId\")\n",
    "df.head()"
   ]
  },
  {
   "cell_type": "code",
   "execution_count": 6,
   "id": "329210da-53e3-4852-87ad-f229e5d6fe08",
   "metadata": {},
   "outputs": [],
   "source": [
    "X = df.drop(columns=\"Survived\")\n",
    "y = df[\"Survived\"]"
   ]
  },
  {
   "cell_type": "code",
   "execution_count": 14,
   "id": "cb8ac0ef-9607-4a0f-bee1-ff8020d5f248",
   "metadata": {},
   "outputs": [],
   "source": [
    "def extract_title(series):\n",
    "    return series.str.split(\"\").str[1].str.split().str[0].to_frame()\n",
    "\n",
    "\n",
    "title_extractor = FunctionTransformer(extract_title)"
   ]
  },
  {
   "cell_type": "code",
   "execution_count": 15,
   "id": "97bfc1ef-e68a-44c8-b750-54952a7875fc",
   "metadata": {},
   "outputs": [],
   "source": [
    "def extract_deck(series):\n",
    "    return series.str[0].to_frame()\n",
    "\n",
    "\n",
    "deck_extractor = FunctionTransformer(extract_deck)"
   ]
  },
  {
   "cell_type": "code",
   "execution_count": 16,
   "id": "78de1391-ecab-4f48-81c5-f6f956002a45",
   "metadata": {},
   "outputs": [],
   "source": [
    "deck_pipeline = make_pipeline(\n",
    "    deck_extractor,\n",
    "    SimpleImputer(strategy=\"constant\", fill_value=\"U\"),\n",
    "    OneHotEncoder(handle_unknown=\"ignore\"),\n",
    ")"
   ]
  },
  {
   "cell_type": "code",
   "execution_count": 17,
   "id": "3d297ede-deaf-4f39-b03c-d19ca69f8edf",
   "metadata": {},
   "outputs": [],
   "source": [
    "numerical_pipeline = make_pipeline(StandardScaler(), KNNImputer(n_neighbors=8))"
   ]
  },
  {
   "cell_type": "code",
   "execution_count": 18,
   "id": "7eb6bca3-8304-4242-8b34-f2fbe744ea06",
   "metadata": {},
   "outputs": [],
   "source": [
    "ct = make_column_transformer(\n",
    "    (\n",
    "        make_pipeline(title_extractor, OneHotEncoder(handle_unknown=\"ignore\")),\n",
    "        \"Name\",\n",
    "    ),  # No square brackets around [\"Name\"]\n",
    "    (deck_pipeline, \"Cabin\"),\n",
    "    (\n",
    "        OneHotEncoder(handle_unknown=\"ignore\"),\n",
    "        [\"Sex\"],\n",
    "    ),  # Square brackets around [\"Sex\"]!\n",
    "    (numerical_pipeline, make_column_selector(dtype_include=\"number\")),\n",
    ")"
   ]
  },
  {
   "cell_type": "code",
   "execution_count": 19,
   "id": "e8d8ce8d-6a83-4197-b146-fe7484360a3b",
   "metadata": {},
   "outputs": [
    {
     "data": {
      "text/html": [
       "<style>div.sk-top-container {color: black;background-color: white;}div.sk-toggleable {background-color: white;}label.sk-toggleable__label {cursor: pointer;display: block;width: 100%;margin-bottom: 0;padding: 0.2em 0.3em;box-sizing: border-box;text-align: center;}div.sk-toggleable__content {max-height: 0;max-width: 0;overflow: hidden;text-align: left;background-color: #f0f8ff;}div.sk-toggleable__content pre {margin: 0.2em;color: black;border-radius: 0.25em;background-color: #f0f8ff;}input.sk-toggleable__control:checked~div.sk-toggleable__content {max-height: 200px;max-width: 100%;overflow: auto;}div.sk-estimator input.sk-toggleable__control:checked~label.sk-toggleable__label {background-color: #d4ebff;}div.sk-label input.sk-toggleable__control:checked~label.sk-toggleable__label {background-color: #d4ebff;}input.sk-hidden--visually {border: 0;clip: rect(1px 1px 1px 1px);clip: rect(1px, 1px, 1px, 1px);height: 1px;margin: -1px;overflow: hidden;padding: 0;position: absolute;width: 1px;}div.sk-estimator {font-family: monospace;background-color: #f0f8ff;margin: 0.25em 0.25em;border: 1px dotted black;border-radius: 0.25em;box-sizing: border-box;}div.sk-estimator:hover {background-color: #d4ebff;}div.sk-parallel-item::after {content: \"\";width: 100%;border-bottom: 1px solid gray;flex-grow: 1;}div.sk-label:hover label.sk-toggleable__label {background-color: #d4ebff;}div.sk-serial::before {content: \"\";position: absolute;border-left: 1px solid gray;box-sizing: border-box;top: 2em;bottom: 0;left: 50%;}div.sk-serial {display: flex;flex-direction: column;align-items: center;background-color: white;}div.sk-item {z-index: 1;}div.sk-parallel {display: flex;align-items: stretch;justify-content: center;background-color: white;}div.sk-parallel-item {display: flex;flex-direction: column;position: relative;background-color: white;}div.sk-parallel-item:first-child::after {align-self: flex-end;width: 50%;}div.sk-parallel-item:last-child::after {align-self: flex-start;width: 50%;}div.sk-parallel-item:only-child::after {width: 0;}div.sk-dashed-wrapped {border: 1px dashed gray;margin: 0.2em;box-sizing: border-box;padding-bottom: 0.1em;background-color: white;position: relative;}div.sk-label label {font-family: monospace;font-weight: bold;background-color: white;display: inline-block;line-height: 1.2em;}div.sk-label-container {position: relative;z-index: 2;text-align: center;}div.sk-container {display: inline-block;position: relative;}</style><div class=\"sk-top-container\"><div class=\"sk-container\"><div class=\"sk-item sk-dashed-wrapped\"><div class=\"sk-label-container\"><div class=\"sk-label sk-toggleable\"><input class=\"sk-toggleable__control sk-hidden--visually\" id=\"7acf2f76-f050-4609-b56b-cb69666b2a0a\" type=\"checkbox\" ><label class=\"sk-toggleable__label\" for=\"7acf2f76-f050-4609-b56b-cb69666b2a0a\">Pipeline</label><div class=\"sk-toggleable__content\"><pre>Pipeline(steps=[('preprocessing',\n",
       "                 ColumnTransformer(transformers=[('pipeline-1',\n",
       "                                                  Pipeline(steps=[('functiontransformer',\n",
       "                                                                   FunctionTransformer(func=<function extract_title at 0x7fe8050de8b0>)),\n",
       "                                                                  ('onehotencoder',\n",
       "                                                                   OneHotEncoder(handle_unknown='ignore'))]),\n",
       "                                                  'Name'),\n",
       "                                                 ('pipeline-2',\n",
       "                                                  Pipeline(steps=[('functiontransformer',\n",
       "                                                                   FunctionTransformer(func=<function extract_dec...\n",
       "                                                                  ('onehotencoder',\n",
       "                                                                   OneHotEncoder(handle_unknown='ignore'))]),\n",
       "                                                  'Cabin'),\n",
       "                                                 ('onehotencoder',\n",
       "                                                  OneHotEncoder(handle_unknown='ignore'),\n",
       "                                                  ['Sex']),\n",
       "                                                 ('pipeline-3',\n",
       "                                                  Pipeline(steps=[('standardscaler',\n",
       "                                                                   StandardScaler()),\n",
       "                                                                  ('knnimputer',\n",
       "                                                                   KNNImputer(n_neighbors=8))]),\n",
       "                                                  <sklearn.compose._column_transformer.make_column_selector object at 0x7fe804f0c7c0>)])),\n",
       "                ('regression', LogisticRegression())])</pre></div></div></div><div class=\"sk-serial\"><div class=\"sk-item sk-dashed-wrapped\"><div class=\"sk-label-container\"><div class=\"sk-label sk-toggleable\"><input class=\"sk-toggleable__control sk-hidden--visually\" id=\"dc5075ae-68b6-4cd7-a289-ce9812b330ac\" type=\"checkbox\" ><label class=\"sk-toggleable__label\" for=\"dc5075ae-68b6-4cd7-a289-ce9812b330ac\">preprocessing: ColumnTransformer</label><div class=\"sk-toggleable__content\"><pre>ColumnTransformer(transformers=[('pipeline-1',\n",
       "                                 Pipeline(steps=[('functiontransformer',\n",
       "                                                  FunctionTransformer(func=<function extract_title at 0x7fe8050de8b0>)),\n",
       "                                                 ('onehotencoder',\n",
       "                                                  OneHotEncoder(handle_unknown='ignore'))]),\n",
       "                                 'Name'),\n",
       "                                ('pipeline-2',\n",
       "                                 Pipeline(steps=[('functiontransformer',\n",
       "                                                  FunctionTransformer(func=<function extract_deck at 0x7fe8050deb80>)),\n",
       "                                                 ('simpleimpu...\n",
       "                                                  SimpleImputer(fill_value='U',\n",
       "                                                                strategy='constant')),\n",
       "                                                 ('onehotencoder',\n",
       "                                                  OneHotEncoder(handle_unknown='ignore'))]),\n",
       "                                 'Cabin'),\n",
       "                                ('onehotencoder',\n",
       "                                 OneHotEncoder(handle_unknown='ignore'),\n",
       "                                 ['Sex']),\n",
       "                                ('pipeline-3',\n",
       "                                 Pipeline(steps=[('standardscaler',\n",
       "                                                  StandardScaler()),\n",
       "                                                 ('knnimputer',\n",
       "                                                  KNNImputer(n_neighbors=8))]),\n",
       "                                 <sklearn.compose._column_transformer.make_column_selector object at 0x7fe804f0c7c0>)])</pre></div></div></div><div class=\"sk-parallel\"><div class=\"sk-parallel-item\"><div class=\"sk-item\"><div class=\"sk-label-container\"><div class=\"sk-label sk-toggleable\"><input class=\"sk-toggleable__control sk-hidden--visually\" id=\"3ecf3c4a-910f-450b-9efe-05dfd4985f00\" type=\"checkbox\" ><label class=\"sk-toggleable__label\" for=\"3ecf3c4a-910f-450b-9efe-05dfd4985f00\">pipeline-1</label><div class=\"sk-toggleable__content\"><pre>Name</pre></div></div></div><div class=\"sk-serial\"><div class=\"sk-item\"><div class=\"sk-serial\"><div class=\"sk-item\"><div class=\"sk-estimator sk-toggleable\"><input class=\"sk-toggleable__control sk-hidden--visually\" id=\"870c32cd-7bb9-44a5-89b2-dcb1fe536141\" type=\"checkbox\" ><label class=\"sk-toggleable__label\" for=\"870c32cd-7bb9-44a5-89b2-dcb1fe536141\">FunctionTransformer</label><div class=\"sk-toggleable__content\"><pre>FunctionTransformer(func=<function extract_title at 0x7fe8050de8b0>)</pre></div></div></div><div class=\"sk-item\"><div class=\"sk-estimator sk-toggleable\"><input class=\"sk-toggleable__control sk-hidden--visually\" id=\"dfbc757d-eb12-4c24-b2be-74dfd4ccd874\" type=\"checkbox\" ><label class=\"sk-toggleable__label\" for=\"dfbc757d-eb12-4c24-b2be-74dfd4ccd874\">OneHotEncoder</label><div class=\"sk-toggleable__content\"><pre>OneHotEncoder(handle_unknown='ignore')</pre></div></div></div></div></div></div></div></div><div class=\"sk-parallel-item\"><div class=\"sk-item\"><div class=\"sk-label-container\"><div class=\"sk-label sk-toggleable\"><input class=\"sk-toggleable__control sk-hidden--visually\" id=\"1d34db1e-4fd2-4718-933a-47b807328c9b\" type=\"checkbox\" ><label class=\"sk-toggleable__label\" for=\"1d34db1e-4fd2-4718-933a-47b807328c9b\">pipeline-2</label><div class=\"sk-toggleable__content\"><pre>Cabin</pre></div></div></div><div class=\"sk-serial\"><div class=\"sk-item\"><div class=\"sk-serial\"><div class=\"sk-item\"><div class=\"sk-estimator sk-toggleable\"><input class=\"sk-toggleable__control sk-hidden--visually\" id=\"66c8c7a5-c022-40cc-b87a-9969b00508a8\" type=\"checkbox\" ><label class=\"sk-toggleable__label\" for=\"66c8c7a5-c022-40cc-b87a-9969b00508a8\">FunctionTransformer</label><div class=\"sk-toggleable__content\"><pre>FunctionTransformer(func=<function extract_deck at 0x7fe8050deb80>)</pre></div></div></div><div class=\"sk-item\"><div class=\"sk-estimator sk-toggleable\"><input class=\"sk-toggleable__control sk-hidden--visually\" id=\"00cc779e-ee6d-41b8-a1f4-b6e9f51334ad\" type=\"checkbox\" ><label class=\"sk-toggleable__label\" for=\"00cc779e-ee6d-41b8-a1f4-b6e9f51334ad\">SimpleImputer</label><div class=\"sk-toggleable__content\"><pre>SimpleImputer(fill_value='U', strategy='constant')</pre></div></div></div><div class=\"sk-item\"><div class=\"sk-estimator sk-toggleable\"><input class=\"sk-toggleable__control sk-hidden--visually\" id=\"6fa1cfaa-e54a-451b-bfbb-af3292976fcb\" type=\"checkbox\" ><label class=\"sk-toggleable__label\" for=\"6fa1cfaa-e54a-451b-bfbb-af3292976fcb\">OneHotEncoder</label><div class=\"sk-toggleable__content\"><pre>OneHotEncoder(handle_unknown='ignore')</pre></div></div></div></div></div></div></div></div><div class=\"sk-parallel-item\"><div class=\"sk-item\"><div class=\"sk-label-container\"><div class=\"sk-label sk-toggleable\"><input class=\"sk-toggleable__control sk-hidden--visually\" id=\"443a7860-08aa-4c06-a414-e801bcb93804\" type=\"checkbox\" ><label class=\"sk-toggleable__label\" for=\"443a7860-08aa-4c06-a414-e801bcb93804\">onehotencoder</label><div class=\"sk-toggleable__content\"><pre>['Sex']</pre></div></div></div><div class=\"sk-serial\"><div class=\"sk-item\"><div class=\"sk-estimator sk-toggleable\"><input class=\"sk-toggleable__control sk-hidden--visually\" id=\"fca7eaf3-3246-4f24-842a-7bc9dd052264\" type=\"checkbox\" ><label class=\"sk-toggleable__label\" for=\"fca7eaf3-3246-4f24-842a-7bc9dd052264\">OneHotEncoder</label><div class=\"sk-toggleable__content\"><pre>OneHotEncoder(handle_unknown='ignore')</pre></div></div></div></div></div></div><div class=\"sk-parallel-item\"><div class=\"sk-item\"><div class=\"sk-label-container\"><div class=\"sk-label sk-toggleable\"><input class=\"sk-toggleable__control sk-hidden--visually\" id=\"6e561bb1-f57a-47a0-9b99-ec3c6311d4d9\" type=\"checkbox\" ><label class=\"sk-toggleable__label\" for=\"6e561bb1-f57a-47a0-9b99-ec3c6311d4d9\">pipeline-3</label><div class=\"sk-toggleable__content\"><pre><sklearn.compose._column_transformer.make_column_selector object at 0x7fe804f0c7c0></pre></div></div></div><div class=\"sk-serial\"><div class=\"sk-item\"><div class=\"sk-serial\"><div class=\"sk-item\"><div class=\"sk-estimator sk-toggleable\"><input class=\"sk-toggleable__control sk-hidden--visually\" id=\"4bb9ef9d-70bf-4b10-8580-968756f4436c\" type=\"checkbox\" ><label class=\"sk-toggleable__label\" for=\"4bb9ef9d-70bf-4b10-8580-968756f4436c\">StandardScaler</label><div class=\"sk-toggleable__content\"><pre>StandardScaler()</pre></div></div></div><div class=\"sk-item\"><div class=\"sk-estimator sk-toggleable\"><input class=\"sk-toggleable__control sk-hidden--visually\" id=\"ffd548d4-7412-4868-ad3c-3ee6e2bdb064\" type=\"checkbox\" ><label class=\"sk-toggleable__label\" for=\"ffd548d4-7412-4868-ad3c-3ee6e2bdb064\">KNNImputer</label><div class=\"sk-toggleable__content\"><pre>KNNImputer(n_neighbors=8)</pre></div></div></div></div></div></div></div></div></div></div><div class=\"sk-item\"><div class=\"sk-estimator sk-toggleable\"><input class=\"sk-toggleable__control sk-hidden--visually\" id=\"763d5a09-a350-4973-b9e2-566b51728f3a\" type=\"checkbox\" ><label class=\"sk-toggleable__label\" for=\"763d5a09-a350-4973-b9e2-566b51728f3a\">LogisticRegression</label><div class=\"sk-toggleable__content\"><pre>LogisticRegression()</pre></div></div></div></div></div></div></div>"
      ],
      "text/plain": [
       "Pipeline(steps=[('preprocessing',\n",
       "                 ColumnTransformer(transformers=[('pipeline-1',\n",
       "                                                  Pipeline(steps=[('functiontransformer',\n",
       "                                                                   FunctionTransformer(func=<function extract_title at 0x7fe8050de8b0>)),\n",
       "                                                                  ('onehotencoder',\n",
       "                                                                   OneHotEncoder(handle_unknown='ignore'))]),\n",
       "                                                  'Name'),\n",
       "                                                 ('pipeline-2',\n",
       "                                                  Pipeline(steps=[('functiontransformer',\n",
       "                                                                   FunctionTransformer(func=<function extract_dec...\n",
       "                                                                  ('onehotencoder',\n",
       "                                                                   OneHotEncoder(handle_unknown='ignore'))]),\n",
       "                                                  'Cabin'),\n",
       "                                                 ('onehotencoder',\n",
       "                                                  OneHotEncoder(handle_unknown='ignore'),\n",
       "                                                  ['Sex']),\n",
       "                                                 ('pipeline-3',\n",
       "                                                  Pipeline(steps=[('standardscaler',\n",
       "                                                                   StandardScaler()),\n",
       "                                                                  ('knnimputer',\n",
       "                                                                   KNNImputer(n_neighbors=8))]),\n",
       "                                                  <sklearn.compose._column_transformer.make_column_selector object at 0x7fe804f0c7c0>)])),\n",
       "                ('regression', LogisticRegression())])"
      ]
     },
     "execution_count": 19,
     "metadata": {},
     "output_type": "execute_result"
    }
   ],
   "source": [
    "clf = Pipeline(\n",
    "    [\n",
    "        (\"preprocessing\", ct),\n",
    "        (\"regression\", LogisticRegression()),\n",
    "    ]\n",
    ")\n",
    "clf"
   ]
  },
  {
   "cell_type": "code",
   "execution_count": 20,
   "id": "ed6c831c-6637-408a-90ce-bccd2b859994",
   "metadata": {},
   "outputs": [
    {
     "data": {
      "text/plain": [
       "array([0.79329609, 0.80337079, 0.78089888, 0.78651685, 0.80898876])"
      ]
     },
     "execution_count": 20,
     "metadata": {},
     "output_type": "execute_result"
    }
   ],
   "source": [
    "clf.fit(X, y)\n",
    "clf.predict(X)\n",
    "\n",
    "scores = cross_val_score(clf, X, y)\n",
    "scores"
   ]
  },
  {
   "cell_type": "code",
   "execution_count": 21,
   "id": "5b96eac2-809f-49fc-98f4-5e7744cdcb12",
   "metadata": {},
   "outputs": [
    {
     "data": {
      "text/plain": [
       "0.7946142740568704"
      ]
     },
     "execution_count": 21,
     "metadata": {},
     "output_type": "execute_result"
    }
   ],
   "source": [
    "scores.mean()"
   ]
  },
  {
   "cell_type": "code",
   "execution_count": 22,
   "id": "8dab28cf-3cab-4a23-81ff-c5ccfff13373",
   "metadata": {},
   "outputs": [],
   "source": [
    "param_grid = [\n",
    "    {\"preprocessing__pipeline-3__knnimputer__n_neighbors\": range(3, 10)},\n",
    "    {\n",
    "        \"regression\": [RandomForestClassifier()],\n",
    "        \"regression__n_estimators\": range(10, 100, 5),\n",
    "    },\n",
    "]"
   ]
  },
  {
   "cell_type": "code",
   "execution_count": 23,
   "id": "f265814e-c692-4944-acf0-5c84957b6785",
   "metadata": {},
   "outputs": [],
   "source": [
    "gs = GridSearchCV(clf, param_grid=param_grid, n_jobs=-1)"
   ]
  },
  {
   "cell_type": "code",
   "execution_count": 24,
   "id": "05cc5493-c62f-4400-83ec-9a00165d8491",
   "metadata": {
    "tags": []
   },
   "outputs": [
    {
     "data": {
      "text/html": [
       "<style>div.sk-top-container {color: black;background-color: white;}div.sk-toggleable {background-color: white;}label.sk-toggleable__label {cursor: pointer;display: block;width: 100%;margin-bottom: 0;padding: 0.2em 0.3em;box-sizing: border-box;text-align: center;}div.sk-toggleable__content {max-height: 0;max-width: 0;overflow: hidden;text-align: left;background-color: #f0f8ff;}div.sk-toggleable__content pre {margin: 0.2em;color: black;border-radius: 0.25em;background-color: #f0f8ff;}input.sk-toggleable__control:checked~div.sk-toggleable__content {max-height: 200px;max-width: 100%;overflow: auto;}div.sk-estimator input.sk-toggleable__control:checked~label.sk-toggleable__label {background-color: #d4ebff;}div.sk-label input.sk-toggleable__control:checked~label.sk-toggleable__label {background-color: #d4ebff;}input.sk-hidden--visually {border: 0;clip: rect(1px 1px 1px 1px);clip: rect(1px, 1px, 1px, 1px);height: 1px;margin: -1px;overflow: hidden;padding: 0;position: absolute;width: 1px;}div.sk-estimator {font-family: monospace;background-color: #f0f8ff;margin: 0.25em 0.25em;border: 1px dotted black;border-radius: 0.25em;box-sizing: border-box;}div.sk-estimator:hover {background-color: #d4ebff;}div.sk-parallel-item::after {content: \"\";width: 100%;border-bottom: 1px solid gray;flex-grow: 1;}div.sk-label:hover label.sk-toggleable__label {background-color: #d4ebff;}div.sk-serial::before {content: \"\";position: absolute;border-left: 1px solid gray;box-sizing: border-box;top: 2em;bottom: 0;left: 50%;}div.sk-serial {display: flex;flex-direction: column;align-items: center;background-color: white;}div.sk-item {z-index: 1;}div.sk-parallel {display: flex;align-items: stretch;justify-content: center;background-color: white;}div.sk-parallel-item {display: flex;flex-direction: column;position: relative;background-color: white;}div.sk-parallel-item:first-child::after {align-self: flex-end;width: 50%;}div.sk-parallel-item:last-child::after {align-self: flex-start;width: 50%;}div.sk-parallel-item:only-child::after {width: 0;}div.sk-dashed-wrapped {border: 1px dashed gray;margin: 0.2em;box-sizing: border-box;padding-bottom: 0.1em;background-color: white;position: relative;}div.sk-label label {font-family: monospace;font-weight: bold;background-color: white;display: inline-block;line-height: 1.2em;}div.sk-label-container {position: relative;z-index: 2;text-align: center;}div.sk-container {display: inline-block;position: relative;}</style><div class=\"sk-top-container\"><div class=\"sk-container\"><div class=\"sk-item sk-dashed-wrapped\"><div class=\"sk-label-container\"><div class=\"sk-label sk-toggleable\"><input class=\"sk-toggleable__control sk-hidden--visually\" id=\"f211563f-565b-4ccd-9914-5d83b0f2b00b\" type=\"checkbox\" ><label class=\"sk-toggleable__label\" for=\"f211563f-565b-4ccd-9914-5d83b0f2b00b\">GridSearchCV</label><div class=\"sk-toggleable__content\"><pre>GridSearchCV(estimator=Pipeline(steps=[('preprocessing',\n",
       "                                        ColumnTransformer(transformers=[('pipeline-1',\n",
       "                                                                         Pipeline(steps=[('functiontransformer',\n",
       "                                                                                          FunctionTransformer(func=<function extract_title at 0x7fe8050de8b0>)),\n",
       "                                                                                         ('onehotencoder',\n",
       "                                                                                          OneHotEncoder(handle_unknown='ignore'))]),\n",
       "                                                                         'Name'),\n",
       "                                                                        ('pipeline-2',\n",
       "                                                                         Pipeline(steps=[('functiontransformer',\n",
       "                                                                                          FunctionTransformer(fu...\n",
       "                                                                                         ('knnimputer',\n",
       "                                                                                          KNNImputer(n_neighbors=8))]),\n",
       "                                                                         <sklearn.compose._column_transformer.make_column_selector object at 0x7fe804f0c7c0>)])),\n",
       "                                       ('regression', LogisticRegression())]),\n",
       "             n_jobs=-1,\n",
       "             param_grid=[{'preprocessing__pipeline-3__knnimputer__n_neighbors': range(3, 10)},\n",
       "                         {'regression': [RandomForestClassifier(n_estimators=45)],\n",
       "                          'regression__n_estimators': range(10, 100, 5)}])</pre></div></div></div><div class=\"sk-parallel\"><div class=\"sk-parallel-item\"><div class=\"sk-item\"><div class=\"sk-serial\"><div class=\"sk-item\"><div class=\"sk-serial\"><div class=\"sk-item sk-dashed-wrapped\"><div class=\"sk-label-container\"><div class=\"sk-label sk-toggleable\"><input class=\"sk-toggleable__control sk-hidden--visually\" id=\"642b6528-4217-4162-99e3-7e2de91e2d0b\" type=\"checkbox\" ><label class=\"sk-toggleable__label\" for=\"642b6528-4217-4162-99e3-7e2de91e2d0b\">preprocessing: ColumnTransformer</label><div class=\"sk-toggleable__content\"><pre>ColumnTransformer(transformers=[('pipeline-1',\n",
       "                                 Pipeline(steps=[('functiontransformer',\n",
       "                                                  FunctionTransformer(func=<function extract_title at 0x7fe8050de8b0>)),\n",
       "                                                 ('onehotencoder',\n",
       "                                                  OneHotEncoder(handle_unknown='ignore'))]),\n",
       "                                 'Name'),\n",
       "                                ('pipeline-2',\n",
       "                                 Pipeline(steps=[('functiontransformer',\n",
       "                                                  FunctionTransformer(func=<function extract_deck at 0x7fe8050deb80>)),\n",
       "                                                 ('simpleimpu...\n",
       "                                                  SimpleImputer(fill_value='U',\n",
       "                                                                strategy='constant')),\n",
       "                                                 ('onehotencoder',\n",
       "                                                  OneHotEncoder(handle_unknown='ignore'))]),\n",
       "                                 'Cabin'),\n",
       "                                ('onehotencoder',\n",
       "                                 OneHotEncoder(handle_unknown='ignore'),\n",
       "                                 ['Sex']),\n",
       "                                ('pipeline-3',\n",
       "                                 Pipeline(steps=[('standardscaler',\n",
       "                                                  StandardScaler()),\n",
       "                                                 ('knnimputer',\n",
       "                                                  KNNImputer(n_neighbors=8))]),\n",
       "                                 <sklearn.compose._column_transformer.make_column_selector object at 0x7fe804f0c7c0>)])</pre></div></div></div><div class=\"sk-parallel\"><div class=\"sk-parallel-item\"><div class=\"sk-item\"><div class=\"sk-label-container\"><div class=\"sk-label sk-toggleable\"><input class=\"sk-toggleable__control sk-hidden--visually\" id=\"1a9150e2-baa5-47c9-a6de-aab3a29936aa\" type=\"checkbox\" ><label class=\"sk-toggleable__label\" for=\"1a9150e2-baa5-47c9-a6de-aab3a29936aa\">pipeline-1</label><div class=\"sk-toggleable__content\"><pre>Name</pre></div></div></div><div class=\"sk-serial\"><div class=\"sk-item\"><div class=\"sk-serial\"><div class=\"sk-item\"><div class=\"sk-estimator sk-toggleable\"><input class=\"sk-toggleable__control sk-hidden--visually\" id=\"b9813804-85f3-4251-8f63-72b2f0533f8b\" type=\"checkbox\" ><label class=\"sk-toggleable__label\" for=\"b9813804-85f3-4251-8f63-72b2f0533f8b\">FunctionTransformer</label><div class=\"sk-toggleable__content\"><pre>FunctionTransformer(func=<function extract_title at 0x7fe8050de8b0>)</pre></div></div></div><div class=\"sk-item\"><div class=\"sk-estimator sk-toggleable\"><input class=\"sk-toggleable__control sk-hidden--visually\" id=\"e67bd9d0-b2f9-4f5f-b996-504ac59fe70d\" type=\"checkbox\" ><label class=\"sk-toggleable__label\" for=\"e67bd9d0-b2f9-4f5f-b996-504ac59fe70d\">OneHotEncoder</label><div class=\"sk-toggleable__content\"><pre>OneHotEncoder(handle_unknown='ignore')</pre></div></div></div></div></div></div></div></div><div class=\"sk-parallel-item\"><div class=\"sk-item\"><div class=\"sk-label-container\"><div class=\"sk-label sk-toggleable\"><input class=\"sk-toggleable__control sk-hidden--visually\" id=\"5b2bfc7f-e052-4f36-97ef-cad3174c5243\" type=\"checkbox\" ><label class=\"sk-toggleable__label\" for=\"5b2bfc7f-e052-4f36-97ef-cad3174c5243\">pipeline-2</label><div class=\"sk-toggleable__content\"><pre>Cabin</pre></div></div></div><div class=\"sk-serial\"><div class=\"sk-item\"><div class=\"sk-serial\"><div class=\"sk-item\"><div class=\"sk-estimator sk-toggleable\"><input class=\"sk-toggleable__control sk-hidden--visually\" id=\"0639b70c-6dcd-46b3-b606-76c2b1450f80\" type=\"checkbox\" ><label class=\"sk-toggleable__label\" for=\"0639b70c-6dcd-46b3-b606-76c2b1450f80\">FunctionTransformer</label><div class=\"sk-toggleable__content\"><pre>FunctionTransformer(func=<function extract_deck at 0x7fe8050deb80>)</pre></div></div></div><div class=\"sk-item\"><div class=\"sk-estimator sk-toggleable\"><input class=\"sk-toggleable__control sk-hidden--visually\" id=\"b299863c-19c2-40b5-b8fe-de49c517b23e\" type=\"checkbox\" ><label class=\"sk-toggleable__label\" for=\"b299863c-19c2-40b5-b8fe-de49c517b23e\">SimpleImputer</label><div class=\"sk-toggleable__content\"><pre>SimpleImputer(fill_value='U', strategy='constant')</pre></div></div></div><div class=\"sk-item\"><div class=\"sk-estimator sk-toggleable\"><input class=\"sk-toggleable__control sk-hidden--visually\" id=\"128b5f78-bce5-4857-b47b-bcdee2101d4d\" type=\"checkbox\" ><label class=\"sk-toggleable__label\" for=\"128b5f78-bce5-4857-b47b-bcdee2101d4d\">OneHotEncoder</label><div class=\"sk-toggleable__content\"><pre>OneHotEncoder(handle_unknown='ignore')</pre></div></div></div></div></div></div></div></div><div class=\"sk-parallel-item\"><div class=\"sk-item\"><div class=\"sk-label-container\"><div class=\"sk-label sk-toggleable\"><input class=\"sk-toggleable__control sk-hidden--visually\" id=\"f91a2026-67f9-4834-8683-ff5d956a769e\" type=\"checkbox\" ><label class=\"sk-toggleable__label\" for=\"f91a2026-67f9-4834-8683-ff5d956a769e\">onehotencoder</label><div class=\"sk-toggleable__content\"><pre>['Sex']</pre></div></div></div><div class=\"sk-serial\"><div class=\"sk-item\"><div class=\"sk-estimator sk-toggleable\"><input class=\"sk-toggleable__control sk-hidden--visually\" id=\"e65428f2-b39e-42b6-9e2a-0ae2ac265965\" type=\"checkbox\" ><label class=\"sk-toggleable__label\" for=\"e65428f2-b39e-42b6-9e2a-0ae2ac265965\">OneHotEncoder</label><div class=\"sk-toggleable__content\"><pre>OneHotEncoder(handle_unknown='ignore')</pre></div></div></div></div></div></div><div class=\"sk-parallel-item\"><div class=\"sk-item\"><div class=\"sk-label-container\"><div class=\"sk-label sk-toggleable\"><input class=\"sk-toggleable__control sk-hidden--visually\" id=\"05fde62c-a7e7-4e04-8969-e8403d024059\" type=\"checkbox\" ><label class=\"sk-toggleable__label\" for=\"05fde62c-a7e7-4e04-8969-e8403d024059\">pipeline-3</label><div class=\"sk-toggleable__content\"><pre><sklearn.compose._column_transformer.make_column_selector object at 0x7fe804f0c7c0></pre></div></div></div><div class=\"sk-serial\"><div class=\"sk-item\"><div class=\"sk-serial\"><div class=\"sk-item\"><div class=\"sk-estimator sk-toggleable\"><input class=\"sk-toggleable__control sk-hidden--visually\" id=\"f81f3649-c37d-404c-857a-8cb6ad2ffd4c\" type=\"checkbox\" ><label class=\"sk-toggleable__label\" for=\"f81f3649-c37d-404c-857a-8cb6ad2ffd4c\">StandardScaler</label><div class=\"sk-toggleable__content\"><pre>StandardScaler()</pre></div></div></div><div class=\"sk-item\"><div class=\"sk-estimator sk-toggleable\"><input class=\"sk-toggleable__control sk-hidden--visually\" id=\"f8eb5fe7-52c6-4f10-8cbb-6043965b0ed4\" type=\"checkbox\" ><label class=\"sk-toggleable__label\" for=\"f8eb5fe7-52c6-4f10-8cbb-6043965b0ed4\">KNNImputer</label><div class=\"sk-toggleable__content\"><pre>KNNImputer(n_neighbors=8)</pre></div></div></div></div></div></div></div></div></div></div><div class=\"sk-item\"><div class=\"sk-estimator sk-toggleable\"><input class=\"sk-toggleable__control sk-hidden--visually\" id=\"63b63356-994d-48da-94cf-8a285d147e1a\" type=\"checkbox\" ><label class=\"sk-toggleable__label\" for=\"63b63356-994d-48da-94cf-8a285d147e1a\">LogisticRegression</label><div class=\"sk-toggleable__content\"><pre>LogisticRegression()</pre></div></div></div></div></div></div></div></div></div></div></div></div>"
      ],
      "text/plain": [
       "GridSearchCV(estimator=Pipeline(steps=[('preprocessing',\n",
       "                                        ColumnTransformer(transformers=[('pipeline-1',\n",
       "                                                                         Pipeline(steps=[('functiontransformer',\n",
       "                                                                                          FunctionTransformer(func=<function extract_title at 0x7fe8050de8b0>)),\n",
       "                                                                                         ('onehotencoder',\n",
       "                                                                                          OneHotEncoder(handle_unknown='ignore'))]),\n",
       "                                                                         'Name'),\n",
       "                                                                        ('pipeline-2',\n",
       "                                                                         Pipeline(steps=[('functiontransformer',\n",
       "                                                                                          FunctionTransformer(fu...\n",
       "                                                                                         ('knnimputer',\n",
       "                                                                                          KNNImputer(n_neighbors=8))]),\n",
       "                                                                         <sklearn.compose._column_transformer.make_column_selector object at 0x7fe804f0c7c0>)])),\n",
       "                                       ('regression', LogisticRegression())]),\n",
       "             n_jobs=-1,\n",
       "             param_grid=[{'preprocessing__pipeline-3__knnimputer__n_neighbors': range(3, 10)},\n",
       "                         {'regression': [RandomForestClassifier(n_estimators=45)],\n",
       "                          'regression__n_estimators': range(10, 100, 5)}])"
      ]
     },
     "execution_count": 24,
     "metadata": {},
     "output_type": "execute_result"
    }
   ],
   "source": [
    "gs.fit(X, y)"
   ]
  },
  {
   "cell_type": "code",
   "execution_count": 25,
   "id": "4a547eba-6fdf-4208-b591-1c9eadc028a1",
   "metadata": {},
   "outputs": [
    {
     "data": {
      "text/plain": [
       "{'regression': RandomForestClassifier(n_estimators=45),\n",
       " 'regression__n_estimators': 45}"
      ]
     },
     "execution_count": 25,
     "metadata": {},
     "output_type": "execute_result"
    }
   ],
   "source": [
    "gs.best_params_"
   ]
  },
  {
   "cell_type": "code",
   "execution_count": 26,
   "id": "36920d0b-a600-4bd4-9d57-1c797fbed210",
   "metadata": {},
   "outputs": [
    {
     "data": {
      "text/plain": [
       "0.8215931203314291"
      ]
     },
     "execution_count": 26,
     "metadata": {},
     "output_type": "execute_result"
    }
   ],
   "source": [
    "gs.best_score_"
   ]
  },
  {
   "cell_type": "code",
   "execution_count": 27,
   "id": "9afd9318-bd6e-408b-9d7c-f8cff3f31356",
   "metadata": {},
   "outputs": [
    {
     "data": {
      "text/html": [
       "<div>\n",
       "<style scoped>\n",
       "    .dataframe tbody tr th:only-of-type {\n",
       "        vertical-align: middle;\n",
       "    }\n",
       "\n",
       "    .dataframe tbody tr th {\n",
       "        vertical-align: top;\n",
       "    }\n",
       "\n",
       "    .dataframe thead th {\n",
       "        text-align: right;\n",
       "    }\n",
       "</style>\n",
       "<table border=\"1\" class=\"dataframe\">\n",
       "  <thead>\n",
       "    <tr style=\"text-align: right;\">\n",
       "      <th></th>\n",
       "      <th>mean_fit_time</th>\n",
       "      <th>std_fit_time</th>\n",
       "      <th>mean_score_time</th>\n",
       "      <th>std_score_time</th>\n",
       "      <th>param_preprocessing__pipeline-3__knnimputer__n_neighbors</th>\n",
       "      <th>param_regression</th>\n",
       "      <th>param_regression__n_estimators</th>\n",
       "      <th>params</th>\n",
       "      <th>split0_test_score</th>\n",
       "      <th>split1_test_score</th>\n",
       "      <th>split2_test_score</th>\n",
       "      <th>split3_test_score</th>\n",
       "      <th>split4_test_score</th>\n",
       "      <th>mean_test_score</th>\n",
       "      <th>std_test_score</th>\n",
       "      <th>rank_test_score</th>\n",
       "    </tr>\n",
       "  </thead>\n",
       "  <tbody>\n",
       "    <tr>\n",
       "      <th>14</th>\n",
       "      <td>0.178565</td>\n",
       "      <td>0.003190</td>\n",
       "      <td>0.033380</td>\n",
       "      <td>0.005019</td>\n",
       "      <td>NaN</td>\n",
       "      <td>RandomForestClassifier(n_estimators=45)</td>\n",
       "      <td>45</td>\n",
       "      <td>{'regression': RandomForestClassifier(n_estima...</td>\n",
       "      <td>0.782123</td>\n",
       "      <td>0.803371</td>\n",
       "      <td>0.887640</td>\n",
       "      <td>0.775281</td>\n",
       "      <td>0.859551</td>\n",
       "      <td>0.821593</td>\n",
       "      <td>0.044357</td>\n",
       "      <td>1</td>\n",
       "    </tr>\n",
       "    <tr>\n",
       "      <th>16</th>\n",
       "      <td>0.203827</td>\n",
       "      <td>0.008861</td>\n",
       "      <td>0.028874</td>\n",
       "      <td>0.003711</td>\n",
       "      <td>NaN</td>\n",
       "      <td>RandomForestClassifier(n_estimators=45)</td>\n",
       "      <td>55</td>\n",
       "      <td>{'regression': RandomForestClassifier(n_estima...</td>\n",
       "      <td>0.787709</td>\n",
       "      <td>0.803371</td>\n",
       "      <td>0.876404</td>\n",
       "      <td>0.775281</td>\n",
       "      <td>0.853933</td>\n",
       "      <td>0.819340</td>\n",
       "      <td>0.039114</td>\n",
       "      <td>2</td>\n",
       "    </tr>\n",
       "    <tr>\n",
       "      <th>11</th>\n",
       "      <td>0.115419</td>\n",
       "      <td>0.002554</td>\n",
       "      <td>0.024563</td>\n",
       "      <td>0.000734</td>\n",
       "      <td>NaN</td>\n",
       "      <td>RandomForestClassifier(n_estimators=45)</td>\n",
       "      <td>30</td>\n",
       "      <td>{'regression': RandomForestClassifier(n_estima...</td>\n",
       "      <td>0.782123</td>\n",
       "      <td>0.808989</td>\n",
       "      <td>0.882022</td>\n",
       "      <td>0.764045</td>\n",
       "      <td>0.853933</td>\n",
       "      <td>0.818222</td>\n",
       "      <td>0.043976</td>\n",
       "      <td>3</td>\n",
       "    </tr>\n",
       "    <tr>\n",
       "      <th>12</th>\n",
       "      <td>0.128420</td>\n",
       "      <td>0.002540</td>\n",
       "      <td>0.025684</td>\n",
       "      <td>0.003806</td>\n",
       "      <td>NaN</td>\n",
       "      <td>RandomForestClassifier(n_estimators=45)</td>\n",
       "      <td>35</td>\n",
       "      <td>{'regression': RandomForestClassifier(n_estima...</td>\n",
       "      <td>0.776536</td>\n",
       "      <td>0.803371</td>\n",
       "      <td>0.865169</td>\n",
       "      <td>0.780899</td>\n",
       "      <td>0.859551</td>\n",
       "      <td>0.817105</td>\n",
       "      <td>0.038097</td>\n",
       "      <td>4</td>\n",
       "    </tr>\n",
       "    <tr>\n",
       "      <th>13</th>\n",
       "      <td>0.152573</td>\n",
       "      <td>0.006137</td>\n",
       "      <td>0.031253</td>\n",
       "      <td>0.002688</td>\n",
       "      <td>NaN</td>\n",
       "      <td>RandomForestClassifier(n_estimators=45)</td>\n",
       "      <td>40</td>\n",
       "      <td>{'regression': RandomForestClassifier(n_estima...</td>\n",
       "      <td>0.782123</td>\n",
       "      <td>0.803371</td>\n",
       "      <td>0.882022</td>\n",
       "      <td>0.752809</td>\n",
       "      <td>0.865169</td>\n",
       "      <td>0.817099</td>\n",
       "      <td>0.049134</td>\n",
       "      <td>5</td>\n",
       "    </tr>\n",
       "  </tbody>\n",
       "</table>\n",
       "</div>"
      ],
      "text/plain": [
       "    mean_fit_time  std_fit_time  mean_score_time  std_score_time  \\\n",
       "14       0.178565      0.003190         0.033380        0.005019   \n",
       "16       0.203827      0.008861         0.028874        0.003711   \n",
       "11       0.115419      0.002554         0.024563        0.000734   \n",
       "12       0.128420      0.002540         0.025684        0.003806   \n",
       "13       0.152573      0.006137         0.031253        0.002688   \n",
       "\n",
       "   param_preprocessing__pipeline-3__knnimputer__n_neighbors  \\\n",
       "14                                                NaN         \n",
       "16                                                NaN         \n",
       "11                                                NaN         \n",
       "12                                                NaN         \n",
       "13                                                NaN         \n",
       "\n",
       "                           param_regression param_regression__n_estimators  \\\n",
       "14  RandomForestClassifier(n_estimators=45)                             45   \n",
       "16  RandomForestClassifier(n_estimators=45)                             55   \n",
       "11  RandomForestClassifier(n_estimators=45)                             30   \n",
       "12  RandomForestClassifier(n_estimators=45)                             35   \n",
       "13  RandomForestClassifier(n_estimators=45)                             40   \n",
       "\n",
       "                                               params  split0_test_score  \\\n",
       "14  {'regression': RandomForestClassifier(n_estima...           0.782123   \n",
       "16  {'regression': RandomForestClassifier(n_estima...           0.787709   \n",
       "11  {'regression': RandomForestClassifier(n_estima...           0.782123   \n",
       "12  {'regression': RandomForestClassifier(n_estima...           0.776536   \n",
       "13  {'regression': RandomForestClassifier(n_estima...           0.782123   \n",
       "\n",
       "    split1_test_score  split2_test_score  split3_test_score  \\\n",
       "14           0.803371           0.887640           0.775281   \n",
       "16           0.803371           0.876404           0.775281   \n",
       "11           0.808989           0.882022           0.764045   \n",
       "12           0.803371           0.865169           0.780899   \n",
       "13           0.803371           0.882022           0.752809   \n",
       "\n",
       "    split4_test_score  mean_test_score  std_test_score  rank_test_score  \n",
       "14           0.859551         0.821593        0.044357                1  \n",
       "16           0.853933         0.819340        0.039114                2  \n",
       "11           0.853933         0.818222        0.043976                3  \n",
       "12           0.859551         0.817105        0.038097                4  \n",
       "13           0.865169         0.817099        0.049134                5  "
      ]
     },
     "execution_count": 27,
     "metadata": {},
     "output_type": "execute_result"
    }
   ],
   "source": [
    "results = pd.DataFrame(gs.cv_results_).sort_values(\"rank_test_score\")\n",
    "results.head()"
   ]
  },
  {
   "cell_type": "code",
   "execution_count": 28,
   "id": "ed161fc1-dbfb-47ab-b121-2f4b116879ce",
   "metadata": {},
   "outputs": [],
   "source": [
    "n_neighbors_results = (\n",
    "    results[\n",
    "        [\n",
    "            \"param_preprocessing__pipeline-3__knnimputer__n_neighbors\",\n",
    "            \"mean_test_score\",\n",
    "            \"std_test_score\",\n",
    "        ]\n",
    "    ]\n",
    "    .rename(\n",
    "        columns={\n",
    "            \"param_preprocessing__pipeline-3__knnimputer__n_neighbors\": \"n_neighbors\"\n",
    "        }\n",
    "    )\n",
    "    .dropna()\n",
    ")"
   ]
  },
  {
   "cell_type": "code",
   "execution_count": 29,
   "id": "ffe67a55-84c2-4db7-905d-1259b0dd5ede",
   "metadata": {},
   "outputs": [
    {
     "data": {
      "text/html": [
       "<div>\n",
       "<style scoped>\n",
       "    .dataframe tbody tr th:only-of-type {\n",
       "        vertical-align: middle;\n",
       "    }\n",
       "\n",
       "    .dataframe tbody tr th {\n",
       "        vertical-align: top;\n",
       "    }\n",
       "\n",
       "    .dataframe thead th {\n",
       "        text-align: right;\n",
       "    }\n",
       "</style>\n",
       "<table border=\"1\" class=\"dataframe\">\n",
       "  <thead>\n",
       "    <tr style=\"text-align: right;\">\n",
       "      <th></th>\n",
       "      <th>n_neighbors</th>\n",
       "      <th>mean_test_score</th>\n",
       "      <th>std_test_score</th>\n",
       "    </tr>\n",
       "  </thead>\n",
       "  <tbody>\n",
       "    <tr>\n",
       "      <th>6</th>\n",
       "      <td>9</td>\n",
       "      <td>0.794614</td>\n",
       "      <td>0.010380</td>\n",
       "    </tr>\n",
       "    <tr>\n",
       "      <th>5</th>\n",
       "      <td>8</td>\n",
       "      <td>0.794614</td>\n",
       "      <td>0.010380</td>\n",
       "    </tr>\n",
       "    <tr>\n",
       "      <th>3</th>\n",
       "      <td>6</td>\n",
       "      <td>0.792367</td>\n",
       "      <td>0.012819</td>\n",
       "    </tr>\n",
       "    <tr>\n",
       "      <th>2</th>\n",
       "      <td>5</td>\n",
       "      <td>0.792367</td>\n",
       "      <td>0.012819</td>\n",
       "    </tr>\n",
       "    <tr>\n",
       "      <th>1</th>\n",
       "      <td>4</td>\n",
       "      <td>0.792367</td>\n",
       "      <td>0.012819</td>\n",
       "    </tr>\n",
       "    <tr>\n",
       "      <th>4</th>\n",
       "      <td>7</td>\n",
       "      <td>0.791243</td>\n",
       "      <td>0.012027</td>\n",
       "    </tr>\n",
       "    <tr>\n",
       "      <th>0</th>\n",
       "      <td>3</td>\n",
       "      <td>0.790126</td>\n",
       "      <td>0.011508</td>\n",
       "    </tr>\n",
       "  </tbody>\n",
       "</table>\n",
       "</div>"
      ],
      "text/plain": [
       "  n_neighbors  mean_test_score  std_test_score\n",
       "6           9         0.794614        0.010380\n",
       "5           8         0.794614        0.010380\n",
       "3           6         0.792367        0.012819\n",
       "2           5         0.792367        0.012819\n",
       "1           4         0.792367        0.012819\n",
       "4           7         0.791243        0.012027\n",
       "0           3         0.790126        0.011508"
      ]
     },
     "execution_count": 29,
     "metadata": {},
     "output_type": "execute_result"
    }
   ],
   "source": [
    "n_neighbors_results"
   ]
  },
  {
   "cell_type": "code",
   "execution_count": 30,
   "id": "55efcae5-360b-4abf-92e5-88f8035ade68",
   "metadata": {},
   "outputs": [
    {
     "data": {
      "text/plain": [
       "<AxesSubplot:xlabel='n_neighbors'>"
      ]
     },
     "execution_count": 30,
     "metadata": {},
     "output_type": "execute_result"
    },
    {
     "data": {
      "image/png": "[encoded data removed]",
      "text/plain": [
       "<Figure size 432x288 with 1 Axes>"
      ]
     },
     "metadata": {
      "needs_background": "light"
     },
     "output_type": "display_data"
    }
   ],
   "source": [
    "n_neighbors_results.sort_values(\"n_neighbors\").plot(\n",
    "    x=\"n_neighbors\", y=\"mean_test_score\"\n",
    ")"
   ]
  },
  {
   "cell_type": "code",
   "execution_count": 31,
   "id": "61de59b1-dab4-46ec-b945-2acf75cdb03d",
   "metadata": {},
   "outputs": [
    {
     "data": {
      "text/html": [
       "<style>div.sk-top-container {color: black;background-color: white;}div.sk-toggleable {background-color: white;}label.sk-toggleable__label {cursor: pointer;display: block;width: 100%;margin-bottom: 0;padding: 0.2em 0.3em;box-sizing: border-box;text-align: center;}div.sk-toggleable__content {max-height: 0;max-width: 0;overflow: hidden;text-align: left;background-color: #f0f8ff;}div.sk-toggleable__content pre {margin: 0.2em;color: black;border-radius: 0.25em;background-color: #f0f8ff;}input.sk-toggleable__control:checked~div.sk-toggleable__content {max-height: 200px;max-width: 100%;overflow: auto;}div.sk-estimator input.sk-toggleable__control:checked~label.sk-toggleable__label {background-color: #d4ebff;}div.sk-label input.sk-toggleable__control:checked~label.sk-toggleable__label {background-color: #d4ebff;}input.sk-hidden--visually {border: 0;clip: rect(1px 1px 1px 1px);clip: rect(1px, 1px, 1px, 1px);height: 1px;margin: -1px;overflow: hidden;padding: 0;position: absolute;width: 1px;}div.sk-estimator {font-family: monospace;background-color: #f0f8ff;margin: 0.25em 0.25em;border: 1px dotted black;border-radius: 0.25em;box-sizing: border-box;}div.sk-estimator:hover {background-color: #d4ebff;}div.sk-parallel-item::after {content: \"\";width: 100%;border-bottom: 1px solid gray;flex-grow: 1;}div.sk-label:hover label.sk-toggleable__label {background-color: #d4ebff;}div.sk-serial::before {content: \"\";position: absolute;border-left: 1px solid gray;box-sizing: border-box;top: 2em;bottom: 0;left: 50%;}div.sk-serial {display: flex;flex-direction: column;align-items: center;background-color: white;}div.sk-item {z-index: 1;}div.sk-parallel {display: flex;align-items: stretch;justify-content: center;background-color: white;}div.sk-parallel-item {display: flex;flex-direction: column;position: relative;background-color: white;}div.sk-parallel-item:first-child::after {align-self: flex-end;width: 50%;}div.sk-parallel-item:last-child::after {align-self: flex-start;width: 50%;}div.sk-parallel-item:only-child::after {width: 0;}div.sk-dashed-wrapped {border: 1px dashed gray;margin: 0.2em;box-sizing: border-box;padding-bottom: 0.1em;background-color: white;position: relative;}div.sk-label label {font-family: monospace;font-weight: bold;background-color: white;display: inline-block;line-height: 1.2em;}div.sk-label-container {position: relative;z-index: 2;text-align: center;}div.sk-container {display: inline-block;position: relative;}</style><div class=\"sk-top-container\"><div class=\"sk-container\"><div class=\"sk-item sk-dashed-wrapped\"><div class=\"sk-label-container\"><div class=\"sk-label sk-toggleable\"><input class=\"sk-toggleable__control sk-hidden--visually\" id=\"69e6c385-98b8-48c4-8353-08a8b45b20f5\" type=\"checkbox\" ><label class=\"sk-toggleable__label\" for=\"69e6c385-98b8-48c4-8353-08a8b45b20f5\">Pipeline</label><div class=\"sk-toggleable__content\"><pre>Pipeline(steps=[('preprocessing',\n",
       "                 ColumnTransformer(transformers=[('pipeline-1',\n",
       "                                                  Pipeline(steps=[('functiontransformer',\n",
       "                                                                   FunctionTransformer(func=<function extract_title at 0x7fe8050de8b0>)),\n",
       "                                                                  ('onehotencoder',\n",
       "                                                                   OneHotEncoder(handle_unknown='ignore'))]),\n",
       "                                                  'Name'),\n",
       "                                                 ('pipeline-2',\n",
       "                                                  Pipeline(steps=[('functiontransformer',\n",
       "                                                                   FunctionTransformer(func=<function extract_dec...\n",
       "                                                                  ('onehotencoder',\n",
       "                                                                   OneHotEncoder(handle_unknown='ignore'))]),\n",
       "                                                  'Cabin'),\n",
       "                                                 ('onehotencoder',\n",
       "                                                  OneHotEncoder(handle_unknown='ignore'),\n",
       "                                                  ['Sex']),\n",
       "                                                 ('pipeline-3',\n",
       "                                                  Pipeline(steps=[('standardscaler',\n",
       "                                                                   StandardScaler()),\n",
       "                                                                  ('knnimputer',\n",
       "                                                                   KNNImputer(n_neighbors=8))]),\n",
       "                                                  <sklearn.compose._column_transformer.make_column_selector object at 0x7fe804f0c7c0>)])),\n",
       "                ('regression', LogisticRegression())])</pre></div></div></div><div class=\"sk-serial\"><div class=\"sk-item sk-dashed-wrapped\"><div class=\"sk-label-container\"><div class=\"sk-label sk-toggleable\"><input class=\"sk-toggleable__control sk-hidden--visually\" id=\"df4e4446-9273-4c46-8c95-65036f981881\" type=\"checkbox\" ><label class=\"sk-toggleable__label\" for=\"df4e4446-9273-4c46-8c95-65036f981881\">preprocessing: ColumnTransformer</label><div class=\"sk-toggleable__content\"><pre>ColumnTransformer(transformers=[('pipeline-1',\n",
       "                                 Pipeline(steps=[('functiontransformer',\n",
       "                                                  FunctionTransformer(func=<function extract_title at 0x7fe8050de8b0>)),\n",
       "                                                 ('onehotencoder',\n",
       "                                                  OneHotEncoder(handle_unknown='ignore'))]),\n",
       "                                 'Name'),\n",
       "                                ('pipeline-2',\n",
       "                                 Pipeline(steps=[('functiontransformer',\n",
       "                                                  FunctionTransformer(func=<function extract_deck at 0x7fe8050deb80>)),\n",
       "                                                 ('simpleimpu...\n",
       "                                                  SimpleImputer(fill_value='U',\n",
       "                                                                strategy='constant')),\n",
       "                                                 ('onehotencoder',\n",
       "                                                  OneHotEncoder(handle_unknown='ignore'))]),\n",
       "                                 'Cabin'),\n",
       "                                ('onehotencoder',\n",
       "                                 OneHotEncoder(handle_unknown='ignore'),\n",
       "                                 ['Sex']),\n",
       "                                ('pipeline-3',\n",
       "                                 Pipeline(steps=[('standardscaler',\n",
       "                                                  StandardScaler()),\n",
       "                                                 ('knnimputer',\n",
       "                                                  KNNImputer(n_neighbors=8))]),\n",
       "                                 <sklearn.compose._column_transformer.make_column_selector object at 0x7fe804f0c7c0>)])</pre></div></div></div><div class=\"sk-parallel\"><div class=\"sk-parallel-item\"><div class=\"sk-item\"><div class=\"sk-label-container\"><div class=\"sk-label sk-toggleable\"><input class=\"sk-toggleable__control sk-hidden--visually\" id=\"5817149a-fe9a-4681-af53-6ea3293665a0\" type=\"checkbox\" ><label class=\"sk-toggleable__label\" for=\"5817149a-fe9a-4681-af53-6ea3293665a0\">pipeline-1</label><div class=\"sk-toggleable__content\"><pre>Name</pre></div></div></div><div class=\"sk-serial\"><div class=\"sk-item\"><div class=\"sk-serial\"><div class=\"sk-item\"><div class=\"sk-estimator sk-toggleable\"><input class=\"sk-toggleable__control sk-hidden--visually\" id=\"de56dc69-1ed9-42f1-b3dd-662157730a97\" type=\"checkbox\" ><label class=\"sk-toggleable__label\" for=\"de56dc69-1ed9-42f1-b3dd-662157730a97\">FunctionTransformer</label><div class=\"sk-toggleable__content\"><pre>FunctionTransformer(func=<function extract_title at 0x7fe8050de8b0>)</pre></div></div></div><div class=\"sk-item\"><div class=\"sk-estimator sk-toggleable\"><input class=\"sk-toggleable__control sk-hidden--visually\" id=\"53c3b923-3504-4d7c-8ebb-83029109ef78\" type=\"checkbox\" ><label class=\"sk-toggleable__label\" for=\"53c3b923-3504-4d7c-8ebb-83029109ef78\">OneHotEncoder</label><div class=\"sk-toggleable__content\"><pre>OneHotEncoder(handle_unknown='ignore')</pre></div></div></div></div></div></div></div></div><div class=\"sk-parallel-item\"><div class=\"sk-item\"><div class=\"sk-label-container\"><div class=\"sk-label sk-toggleable\"><input class=\"sk-toggleable__control sk-hidden--visually\" id=\"8a8a95f7-05d9-4b53-8650-39fecfff6f03\" type=\"checkbox\" ><label class=\"sk-toggleable__label\" for=\"8a8a95f7-05d9-4b53-8650-39fecfff6f03\">pipeline-2</label><div class=\"sk-toggleable__content\"><pre>Cabin</pre></div></div></div><div class=\"sk-serial\"><div class=\"sk-item\"><div class=\"sk-serial\"><div class=\"sk-item\"><div class=\"sk-estimator sk-toggleable\"><input class=\"sk-toggleable__control sk-hidden--visually\" id=\"9024f9f5-4c64-455a-924d-57e7aad66739\" type=\"checkbox\" ><label class=\"sk-toggleable__label\" for=\"9024f9f5-4c64-455a-924d-57e7aad66739\">FunctionTransformer</label><div class=\"sk-toggleable__content\"><pre>FunctionTransformer(func=<function extract_deck at 0x7fe8050deb80>)</pre></div></div></div><div class=\"sk-item\"><div class=\"sk-estimator sk-toggleable\"><input class=\"sk-toggleable__control sk-hidden--visually\" id=\"3d2b5215-2011-4f17-91d7-30f79f4b18ef\" type=\"checkbox\" ><label class=\"sk-toggleable__label\" for=\"3d2b5215-2011-4f17-91d7-30f79f4b18ef\">SimpleImputer</label><div class=\"sk-toggleable__content\"><pre>SimpleImputer(fill_value='U', strategy='constant')</pre></div></div></div><div class=\"sk-item\"><div class=\"sk-estimator sk-toggleable\"><input class=\"sk-toggleable__control sk-hidden--visually\" id=\"c154d098-6bd4-488a-a638-6f5fdce457ee\" type=\"checkbox\" ><label class=\"sk-toggleable__label\" for=\"c154d098-6bd4-488a-a638-6f5fdce457ee\">OneHotEncoder</label><div class=\"sk-toggleable__content\"><pre>OneHotEncoder(handle_unknown='ignore')</pre></div></div></div></div></div></div></div></div><div class=\"sk-parallel-item\"><div class=\"sk-item\"><div class=\"sk-label-container\"><div class=\"sk-label sk-toggleable\"><input class=\"sk-toggleable__control sk-hidden--visually\" id=\"9eb36223-7252-4407-b582-dc28026bd091\" type=\"checkbox\" ><label class=\"sk-toggleable__label\" for=\"9eb36223-7252-4407-b582-dc28026bd091\">onehotencoder</label><div class=\"sk-toggleable__content\"><pre>['Sex']</pre></div></div></div><div class=\"sk-serial\"><div class=\"sk-item\"><div class=\"sk-estimator sk-toggleable\"><input class=\"sk-toggleable__control sk-hidden--visually\" id=\"ae5e3ded-fec5-48be-951f-e377f6797de0\" type=\"checkbox\" ><label class=\"sk-toggleable__label\" for=\"ae5e3ded-fec5-48be-951f-e377f6797de0\">OneHotEncoder</label><div class=\"sk-toggleable__content\"><pre>OneHotEncoder(handle_unknown='ignore')</pre></div></div></div></div></div></div><div class=\"sk-parallel-item\"><div class=\"sk-item\"><div class=\"sk-label-container\"><div class=\"sk-label sk-toggleable\"><input class=\"sk-toggleable__control sk-hidden--visually\" id=\"799a7f67-b43c-4497-9d28-0a08e00113aa\" type=\"checkbox\" ><label class=\"sk-toggleable__label\" for=\"799a7f67-b43c-4497-9d28-0a08e00113aa\">pipeline-3</label><div class=\"sk-toggleable__content\"><pre><sklearn.compose._column_transformer.make_column_selector object at 0x7fe804f0c7c0></pre></div></div></div><div class=\"sk-serial\"><div class=\"sk-item\"><div class=\"sk-serial\"><div class=\"sk-item\"><div class=\"sk-estimator sk-toggleable\"><input class=\"sk-toggleable__control sk-hidden--visually\" id=\"1a597bf3-b476-44c1-ad17-824ca459243b\" type=\"checkbox\" ><label class=\"sk-toggleable__label\" for=\"1a597bf3-b476-44c1-ad17-824ca459243b\">StandardScaler</label><div class=\"sk-toggleable__content\"><pre>StandardScaler()</pre></div></div></div><div class=\"sk-item\"><div class=\"sk-estimator sk-toggleable\"><input class=\"sk-toggleable__control sk-hidden--visually\" id=\"823682ff-1c50-4814-9125-d37f652c5647\" type=\"checkbox\" ><label class=\"sk-toggleable__label\" for=\"823682ff-1c50-4814-9125-d37f652c5647\">KNNImputer</label><div class=\"sk-toggleable__content\"><pre>KNNImputer(n_neighbors=8)</pre></div></div></div></div></div></div></div></div></div></div><div class=\"sk-item\"><div class=\"sk-estimator sk-toggleable\"><input class=\"sk-toggleable__control sk-hidden--visually\" id=\"be1679a3-c986-44e1-8237-1135fa688b5e\" type=\"checkbox\" ><label class=\"sk-toggleable__label\" for=\"be1679a3-c986-44e1-8237-1135fa688b5e\">LogisticRegression</label><div class=\"sk-toggleable__content\"><pre>LogisticRegression()</pre></div></div></div></div></div></div></div>"
      ],
      "text/plain": [
       "Pipeline(steps=[('preprocessing',\n",
       "                 ColumnTransformer(transformers=[('pipeline-1',\n",
       "                                                  Pipeline(steps=[('functiontransformer',\n",
       "                                                                   FunctionTransformer(func=<function extract_title at 0x7fe8050de8b0>)),\n",
       "                                                                  ('onehotencoder',\n",
       "                                                                   OneHotEncoder(handle_unknown='ignore'))]),\n",
       "                                                  'Name'),\n",
       "                                                 ('pipeline-2',\n",
       "                                                  Pipeline(steps=[('functiontransformer',\n",
       "                                                                   FunctionTransformer(func=<function extract_dec...\n",
       "                                                                  ('onehotencoder',\n",
       "                                                                   OneHotEncoder(handle_unknown='ignore'))]),\n",
       "                                                  'Cabin'),\n",
       "                                                 ('onehotencoder',\n",
       "                                                  OneHotEncoder(handle_unknown='ignore'),\n",
       "                                                  ['Sex']),\n",
       "                                                 ('pipeline-3',\n",
       "                                                  Pipeline(steps=[('standardscaler',\n",
       "                                                                   StandardScaler()),\n",
       "                                                                  ('knnimputer',\n",
       "                                                                   KNNImputer(n_neighbors=8))]),\n",
       "                                                  <sklearn.compose._column_transformer.make_column_selector object at 0x7fe804f0c7c0>)])),\n",
       "                ('regression', LogisticRegression())])"
      ]
     },
     "execution_count": 31,
     "metadata": {},
     "output_type": "execute_result"
    }
   ],
   "source": [
    "clf"
   ]
  },
  {
   "cell_type": "code",
   "execution_count": 32,
   "id": "3c17b893-23ca-4e57-8faa-ba8c6f66a9de",
   "metadata": {},
   "outputs": [],
   "source": [
    "from sklearn.model_selection import learning_curve"
   ]
  },
  {
   "cell_type": "code",
   "execution_count": 35,
   "id": "e4635da9-ef0b-4b97-b4a4-5345f99fc791",
   "metadata": {},
   "outputs": [],
   "source": [
    "train_sizes, train_scores, test_scores = learning_curve(clf, X, y)"
   ]
  },
  {
   "cell_type": "code",
   "execution_count": 36,
   "id": "d6674cfc-578f-40ae-94d8-a4bdcfba47ae",
   "metadata": {},
   "outputs": [
    {
     "data": {
      "text/plain": [
       "array([[0.84507042, 0.90140845, 0.90140845, 0.90140845, 0.90140845],\n",
       "       [0.82683983, 0.83116883, 0.83116883, 0.83116883, 0.83116883],\n",
       "       [0.81329923, 0.81585678, 0.82352941, 0.82608696, 0.82608696],\n",
       "       [0.80399274, 0.81125227, 0.82395644, 0.81306715, 0.81488203],\n",
       "       [0.80898876, 0.80477528, 0.81179775, 0.81179775, 0.82022472]])"
      ]
     },
     "execution_count": 36,
     "metadata": {},
     "output_type": "execute_result"
    }
   ],
   "source": [
    "train_scores"
   ]
  },
  {
   "cell_type": "code",
   "execution_count": 51,
   "id": "5bcf0a74-6a54-4492-a2c2-99e9e1eb27bb",
   "metadata": {},
   "outputs": [],
   "source": [
    "train_scores_mean = train_scores.mean(axis=1)\n",
    "test_scores_mean= test_scores.mean(axis=1)\n",
    "\n",
    "train_scores_std = train_scores.std(axis=1)\n",
    "test_scores_std=test_scores.std(axis=1)"
   ]
  },
  {
   "cell_type": "code",
   "execution_count": 52,
   "id": "7ca2b4ce-48ba-45ca-9c6f-d1d483ff3518",
   "metadata": {},
   "outputs": [],
   "source": [
    "import matplotlib.pyplot as plt"
   ]
  },
  {
   "cell_type": "code",
   "execution_count": 53,
   "id": "95af3b7b-92f2-453d-8f5e-ee157b3fc639",
   "metadata": {},
   "outputs": [],
   "source": [
    "import seaborn as sns \n",
    "sns.set()"
   ]
  },
  {
   "cell_type": "code",
   "execution_count": 56,
   "id": "7bf68fab-efb9-4882-9575-7f3d6fda1c00",
   "metadata": {},
   "outputs": [
    {
     "data": {
      "text/plain": [
       "<matplotlib.collections.PolyCollection at 0x7fe7ebe3fcd0>"
      ]
     },
     "execution_count": 56,
     "metadata": {},
     "output_type": "execute_result"
    },
    {
     "data": {
      "image/png": "[encoded data removed]",
      "text/plain": [
       "<Figure size 720x288 with 1 Axes>"
      ]
     },
     "metadata": {},
     "output_type": "display_data"
    }
   ],
   "source": [
    "fig, ax = plt.subplots(figsize=(10,4))\n",
    "\n",
    "ax.plot(train_sizes, train_scores_mean, \"o-\", color = \"r\", label = \"training scores\")#;\n",
    "ax.plot(train_sizes, test_scores_mean, \"o-\", color = \"b\");\n",
    "\n",
    "ax.fill_between(\n",
    "    train_sizes,\n",
    "    train_scores_mean - train_scores_std, \n",
    "    train_scores_mean + train_scores_std,\n",
    "    color = \"r\", \n",
    "    alpha = 0.2\n",
    ")\n",
    "\n",
    "ax.fill_between(\n",
    "    train_sizes,\n",
    "    test_scores_mean - test_scores_std, \n",
    "    test_scores_mean + test_scores_std,\n",
    "    color = \"b\", \n",
    "    alpha = 0.2\n",
    ")\n",
    "#semi column to remove the explaination on top of the graph"
   ]
  },
  {
   "cell_type": "code",
   "execution_count": 58,
   "id": "7f530ad2-6e84-459f-b1eb-8d9cf43d1eb2",
   "metadata": {},
   "outputs": [],
   "source": [
    "tips = sns.load_dataset(\"tips\")"
   ]
  },
  {
   "cell_type": "code",
   "execution_count": 64,
   "id": "d792dd78-37dd-4d44-ad8a-cec88f6bccd7",
   "metadata": {},
   "outputs": [],
   "source": [
    "tips[\"small_table\"] = (tips[\"size\"]<=2)"
   ]
  },
  {
   "cell_type": "code",
   "execution_count": 72,
   "id": "8556c8e4-e894-4397-b0aa-2af03172dcfe",
   "metadata": {},
   "outputs": [
    {
     "data": {
      "text/plain": [
       "array([[<AxesSubplot:title={'center':'day = Thur | smoker = Yes'}, ylabel='tip'>,\n",
       "        <AxesSubplot:title={'center':'day = Thur | smoker = No'}>],\n",
       "       [<AxesSubplot:title={'center':'day = Fri | smoker = Yes'}, ylabel='tip'>,\n",
       "        <AxesSubplot:title={'center':'day = Fri | smoker = No'}>],\n",
       "       [<AxesSubplot:title={'center':'day = Sat | smoker = Yes'}, ylabel='tip'>,\n",
       "        <AxesSubplot:title={'center':'day = Sat | smoker = No'}>],\n",
       "       [<AxesSubplot:title={'center':'day = Sun | smoker = Yes'}, xlabel='total_bill', ylabel='tip'>,\n",
       "        <AxesSubplot:title={'center':'day = Sun | smoker = No'}, xlabel='total_bill'>]],\n",
       "      dtype=object)"
      ]
     },
     "execution_count": 72,
     "metadata": {},
     "output_type": "execute_result"
    },
    {
     "data": {
      "image/png": "[encoded data removed]",
      "text/plain": [
       "<Figure size 1518.1x1440 with 8 Axes>"
      ]
     },
     "metadata": {},
     "output_type": "display_data"
    }
   ],
   "source": [
    "grid = sns.relplot(\n",
    "    data=tips,\n",
    "    x = \"total_bill\",\n",
    "    y= \"tip\", \n",
    "    hue = \"sex\", \n",
    "    size = \"small_table\", \n",
    "    col = \"smoker\",\n",
    "    row = \"day\", \n",
    "    aspect =2,\n",
    ")\n",
    "\n",
    "grid.axes"
   ]
  }
 ],
 "metadata": {
  "kernelspec": {
   "display_name": "Python 3",
   "language": "python",
   "name": "python3"
  },
  "language_info": {
   "codemirror_mode": {
    "name": "ipython",
    "version": 3
   },
   "file_extension": ".py",
   "mimetype": "text/x-python",
   "name": "python",
   "nbconvert_exporter": "python",
   "pygments_lexer": "ipython3",
   "version": "3.8.8"
  }
 },
 "nbformat": 4,
 "nbformat_minor": 5
}
